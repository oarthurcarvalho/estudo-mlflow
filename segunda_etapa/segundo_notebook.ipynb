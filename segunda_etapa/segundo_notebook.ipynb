{
 "cells": [
  {
   "cell_type": "markdown",
   "metadata": {},
   "source": [
    "## 0.0 - Imports"
   ]
  },
  {
   "cell_type": "code",
   "execution_count": 4,
   "metadata": {},
   "outputs": [],
   "source": [
    "import joblib\n",
    "import pandas as pd\n",
    "import pandera\n",
    "from sklearn.model_selection import train_test_split\n",
    "from pandera import Check, Column, DataFrameSchema\n",
    "from sklearn.pipeline import Pipeline\n",
    "from feature_engine.discretisation import EqualFrequencyDiscretiser, EqualWidthDiscretiser\n",
    "from feature_engine.imputation import MeanMedianImputer\n",
    "from feature_engine.wrappers import SklearnTransformerWrapper\n",
    "from sklearn.preprocessing import RobustScaler, StandardScaler\n",
    "from sklearn.metrics import roc_auc_score\n",
    "from sklearn.linear_model import LogisticRegression"
   ]
  },
  {
   "cell_type": "markdown",
   "metadata": {},
   "source": [
    "## 0.1 - Utils"
   ]
  },
  {
   "cell_type": "code",
   "execution_count": 5,
   "metadata": {},
   "outputs": [],
   "source": [
    "columns_to_use = ['target', 'TaxaDeUtilizacaoDeLinhasNaoGarantidas',\n",
    "                  'Idade', 'NumeroDeVezes30-59DiasAtrasoNaoPior',\n",
    "                  'TaxaDeEndividamento', 'RendaMensal',\n",
    "                  'NumeroDeLinhasDeCreditoEEmprestimosAbertos',\n",
    "                  'NumeroDeVezes90DiasAtraso',\n",
    "                  'NumeroDeEmprestimosOuLinhasImobiliarias',\n",
    "                  'NumeroDeVezes60-89DiasAtrasoNaoPior', 'NumeroDeDependentes']"
   ]
  },
  {
   "cell_type": "markdown",
   "metadata": {},
   "source": [
    "# 1.0 - Data Load\n",
    "\n",
    "<p>É importante a criação desta etapa de Data Load porque é bem possível que apenas esta parte mude em seu projeto.</p>\n",
    "<p>Ex.:</p>\n",
    "    <p style=\"padding-left: 50px\">O projeto criado estava lendo os dados de um arquivo .csv e agora o arquivo muda para um banco de dados PostgreSQL</>"
   ]
  },
  {
   "cell_type": "code",
   "execution_count": 6,
   "metadata": {},
   "outputs": [],
   "source": [
    "class DataLoad:\n",
    "\n",
    "    def __init__(self):\n",
    "        pass\n",
    "\n",
    "    def load_data(self) -> pd.DataFrame:\n",
    "        \"\"\"\n",
    "        Função vai carregar os dados\n",
    "\n",
    "        return:\n",
    "            pandas DataFrame\n",
    "        \"\"\"\n",
    "\n",
    "        loaded_data = pd.read_csv('../data/train.csv')\n",
    "        return loaded_data"
   ]
  },
  {
   "cell_type": "code",
   "execution_count": 7,
   "metadata": {},
   "outputs": [],
   "source": [
    "dl = DataLoad()"
   ]
  },
  {
   "cell_type": "code",
   "execution_count": 8,
   "metadata": {},
   "outputs": [
    {
     "data": {
      "text/html": [
       "<div>\n",
       "<style scoped>\n",
       "    .dataframe tbody tr th:only-of-type {\n",
       "        vertical-align: middle;\n",
       "    }\n",
       "\n",
       "    .dataframe tbody tr th {\n",
       "        vertical-align: top;\n",
       "    }\n",
       "\n",
       "    .dataframe thead th {\n",
       "        text-align: right;\n",
       "    }\n",
       "</style>\n",
       "<table border=\"1\" class=\"dataframe\">\n",
       "  <thead>\n",
       "    <tr style=\"text-align: right;\">\n",
       "      <th></th>\n",
       "      <th>target</th>\n",
       "      <th>TaxaDeUtilizacaoDeLinhasNaoGarantidas</th>\n",
       "      <th>Idade</th>\n",
       "      <th>NumeroDeVezes30-59DiasAtrasoNaoPior</th>\n",
       "      <th>TaxaDeEndividamento</th>\n",
       "      <th>RendaMensal</th>\n",
       "      <th>NumeroDeLinhasDeCreditoEEmprestimosAbertos</th>\n",
       "      <th>NumeroDeVezes90DiasAtraso</th>\n",
       "      <th>NumeroDeEmprestimosOuLinhasImobiliarias</th>\n",
       "      <th>NumeroDeVezes60-89DiasAtrasoNaoPior</th>\n",
       "      <th>NumeroDeDependentes</th>\n",
       "    </tr>\n",
       "  </thead>\n",
       "  <tbody>\n",
       "    <tr>\n",
       "      <th>0</th>\n",
       "      <td>1</td>\n",
       "      <td>0.766127</td>\n",
       "      <td>45</td>\n",
       "      <td>2</td>\n",
       "      <td>0.802982</td>\n",
       "      <td>9120.0</td>\n",
       "      <td>13</td>\n",
       "      <td>0</td>\n",
       "      <td>6</td>\n",
       "      <td>0</td>\n",
       "      <td>2.0</td>\n",
       "    </tr>\n",
       "    <tr>\n",
       "      <th>1</th>\n",
       "      <td>0</td>\n",
       "      <td>0.957151</td>\n",
       "      <td>40</td>\n",
       "      <td>0</td>\n",
       "      <td>0.121876</td>\n",
       "      <td>2600.0</td>\n",
       "      <td>4</td>\n",
       "      <td>0</td>\n",
       "      <td>0</td>\n",
       "      <td>0</td>\n",
       "      <td>1.0</td>\n",
       "    </tr>\n",
       "    <tr>\n",
       "      <th>2</th>\n",
       "      <td>0</td>\n",
       "      <td>0.658180</td>\n",
       "      <td>38</td>\n",
       "      <td>1</td>\n",
       "      <td>0.085113</td>\n",
       "      <td>3042.0</td>\n",
       "      <td>2</td>\n",
       "      <td>1</td>\n",
       "      <td>0</td>\n",
       "      <td>0</td>\n",
       "      <td>0.0</td>\n",
       "    </tr>\n",
       "    <tr>\n",
       "      <th>3</th>\n",
       "      <td>0</td>\n",
       "      <td>0.233810</td>\n",
       "      <td>30</td>\n",
       "      <td>0</td>\n",
       "      <td>0.036050</td>\n",
       "      <td>3300.0</td>\n",
       "      <td>5</td>\n",
       "      <td>0</td>\n",
       "      <td>0</td>\n",
       "      <td>0</td>\n",
       "      <td>0.0</td>\n",
       "    </tr>\n",
       "    <tr>\n",
       "      <th>4</th>\n",
       "      <td>0</td>\n",
       "      <td>0.907239</td>\n",
       "      <td>49</td>\n",
       "      <td>1</td>\n",
       "      <td>0.024926</td>\n",
       "      <td>63588.0</td>\n",
       "      <td>7</td>\n",
       "      <td>0</td>\n",
       "      <td>1</td>\n",
       "      <td>0</td>\n",
       "      <td>0.0</td>\n",
       "    </tr>\n",
       "  </tbody>\n",
       "</table>\n",
       "</div>"
      ],
      "text/plain": [
       "   target  TaxaDeUtilizacaoDeLinhasNaoGarantidas  Idade  \\\n",
       "0       1                               0.766127     45   \n",
       "1       0                               0.957151     40   \n",
       "2       0                               0.658180     38   \n",
       "3       0                               0.233810     30   \n",
       "4       0                               0.907239     49   \n",
       "\n",
       "   NumeroDeVezes30-59DiasAtrasoNaoPior  TaxaDeEndividamento  RendaMensal  \\\n",
       "0                                    2             0.802982       9120.0   \n",
       "1                                    0             0.121876       2600.0   \n",
       "2                                    1             0.085113       3042.0   \n",
       "3                                    0             0.036050       3300.0   \n",
       "4                                    1             0.024926      63588.0   \n",
       "\n",
       "   NumeroDeLinhasDeCreditoEEmprestimosAbertos  NumeroDeVezes90DiasAtraso  \\\n",
       "0                                          13                          0   \n",
       "1                                           4                          0   \n",
       "2                                           2                          1   \n",
       "3                                           5                          0   \n",
       "4                                           7                          0   \n",
       "\n",
       "   NumeroDeEmprestimosOuLinhasImobiliarias  \\\n",
       "0                                        6   \n",
       "1                                        0   \n",
       "2                                        0   \n",
       "3                                        0   \n",
       "4                                        1   \n",
       "\n",
       "   NumeroDeVezes60-89DiasAtrasoNaoPior  NumeroDeDependentes  \n",
       "0                                    0                  2.0  \n",
       "1                                    0                  1.0  \n",
       "2                                    0                  0.0  \n",
       "3                                    0                  0.0  \n",
       "4                                    0                  0.0  "
      ]
     },
     "execution_count": 8,
     "metadata": {},
     "output_type": "execute_result"
    }
   ],
   "source": [
    "df = dl.load_data()[columns_to_use]\n",
    "df.head()"
   ]
  },
  {
   "cell_type": "markdown",
   "metadata": {},
   "source": [
    "## 2.0 - Data Validation"
   ]
  },
  {
   "cell_type": "code",
   "execution_count": 9,
   "metadata": {},
   "outputs": [],
   "source": [
    "class DataValidation:\n",
    "    \"\"\"\"\"\"\n",
    "\n",
    "    def __init__(self, columns_to_use) -> None:\n",
    "        self.columns_to_use = columns_to_use\n",
    "\n",
    "    def check_shape_data(self, dataframe: pd.DataFrame) -> bool:\n",
    "        try:\n",
    "            print('Validação Iniciou')\n",
    "            dataframe.columns = self.columns_to_use\n",
    "            return True\n",
    "        except Exception as e:\n",
    "            print(f'Validação errou: {e}')\n",
    "            return False\n",
    "\n",
    "    def check_columns(self, dataframe: pd.DataFrame) -> bool:\n",
    "        schema = DataFrameSchema(\n",
    "            {\n",
    "                'target': Column(int, Check.isin([0, 1]), Check(lambda x: x > 0), coerce=True),\n",
    "                'TaxaDeUtilizacaoDeLinhasNaoGarantidas': Column(float, nullable=True),\n",
    "                'Idade': Column(int, nullable=True),\n",
    "                'NumeroDeVezes30-59DiasAtrasoNaoPior': Column(int, nullable=True),\n",
    "                'TaxaDeEndividamento': Column(float, nullable=True),\n",
    "                'RendaMensal': Column(float, nullable=True),\n",
    "                'NumeroDeLinhasDeCreditoEEmprestimosAbertos': Column(int, nullable=True),\n",
    "                'NumeroDeVezes90DiasAtraso': Column(int, nullable=True),\n",
    "                'NumeroDeEmprestimosOuLinhasImobiliarias': Column(int, nullable=True),\n",
    "                'NumeroDeVezes60-89DiasAtrasoNaoPior': Column(int, nullable=True),\n",
    "                'NumeroDeDependentes': Column(float, nullable=True)\n",
    "            }\n",
    "        )\n",
    "\n",
    "        try:\n",
    "            schema.validate(dataframe)\n",
    "            print(\"Validation columns passed...\")\n",
    "            return True\n",
    "        except pandera.errors.SchemaErros as exc:\n",
    "            print(\"Validation columns failed...\")\n",
    "            pandera.display(exc.failure_cases)\n",
    "        return False\n",
    "\n",
    "    def run(self, dataframe: pd.DataFrame) -> bool:\n",
    "\n",
    "        if self.check_shape_data(dataframe) and self.check_columns(dataframe):\n",
    "            print('Validação com sucesso')\n",
    "            return True\n",
    "        else:\n",
    "            print('Validação Falhou!')\n",
    "            return False"
   ]
  },
  {
   "cell_type": "code",
   "execution_count": 10,
   "metadata": {},
   "outputs": [],
   "source": [
    "dv = DataValidation(columns_to_use)"
   ]
  },
  {
   "cell_type": "code",
   "execution_count": 11,
   "metadata": {},
   "outputs": [
    {
     "name": "stdout",
     "output_type": "stream",
     "text": [
      "Validação Iniciou\n",
      "Validation columns passed...\n",
      "Validação com sucesso\n"
     ]
    },
    {
     "data": {
      "text/plain": [
       "True"
      ]
     },
     "execution_count": 11,
     "metadata": {},
     "output_type": "execute_result"
    }
   ],
   "source": [
    "dv.run(df)"
   ]
  },
  {
   "cell_type": "markdown",
   "metadata": {},
   "source": [
    "## 3.0 - Data Transformation"
   ]
  },
  {
   "cell_type": "code",
   "execution_count": 12,
   "metadata": {},
   "outputs": [],
   "source": [
    "class DataTransformation:\n",
    "    def __init__(self, dataframe: pd.DataFrame, target_name: str) -> None:\n",
    "        self.dataframe = dataframe\n",
    "        self.target_name = target_name\n",
    "\n",
    "    def train_test_spliting(self):\n",
    "        X = self.dataframe.drop(self.target_name, axis=1)\n",
    "        y = self.dataframe[self.target_name]\n",
    "\n",
    "        X_train, X_valid, y_train, y_valid = train_test_split(X, y, stratify=y)\n",
    "\n",
    "        return X_train, X_valid, y_train, y_valid"
   ]
  },
  {
   "cell_type": "code",
   "execution_count": 13,
   "metadata": {},
   "outputs": [],
   "source": [
    "dt = DataTransformation(df, 'target')"
   ]
  },
  {
   "cell_type": "code",
   "execution_count": 14,
   "metadata": {},
   "outputs": [],
   "source": [
    "X_train, X_valid, y_train, y_valid = dt.train_test_spliting()"
   ]
  },
  {
   "cell_type": "code",
   "execution_count": 15,
   "metadata": {},
   "outputs": [
    {
     "data": {
      "text/plain": [
       "(112500, 10)"
      ]
     },
     "execution_count": 15,
     "metadata": {},
     "output_type": "execute_result"
    }
   ],
   "source": [
    "X_train.shape"
   ]
  },
  {
   "cell_type": "code",
   "execution_count": 17,
   "metadata": {},
   "outputs": [
    {
     "data": {
      "text/plain": [
       "(37500, 10)"
      ]
     },
     "execution_count": 17,
     "metadata": {},
     "output_type": "execute_result"
    }
   ],
   "source": [
    "X_valid.shape"
   ]
  },
  {
   "cell_type": "markdown",
   "metadata": {},
   "source": [
    "## 4.0 - Data Preprocessing"
   ]
  },
  {
   "cell_type": "code",
   "execution_count": 18,
   "metadata": {},
   "outputs": [],
   "source": [
    "class DataProcessing:\n",
    "\n",
    "    def __init__(self, dataframe: pd.DataFrame, pipe: Pipeline) -> None:\n",
    "        self.dataframe = dataframe\n",
    "        self.pipe = pipe\n",
    "\n",
    "    def pipeline(self):\n",
    "        train_pipe = self.pipe\n",
    "        train_pipe.fit(self.dataframe)\n",
    "        return train_pipe\n",
    "\n",
    "    def run(self):\n",
    "        print('Preprocessador Iniciou...')\n",
    "        trained_pipeline = self.pipeline()\n",
    "        data_preprocessed = trained_pipeline.transform(self.dataframe)\n",
    "        return data_preprocessed"
   ]
  },
  {
   "cell_type": "code",
   "execution_count": 19,
   "metadata": {},
   "outputs": [],
   "source": [
    "pipe = Pipeline(\n",
    "    [\n",
    "        ('imputer',\n",
    "         MeanMedianImputer(\n",
    "             variables=['RendaMensal', 'NumeroDeDependentes']\n",
    "         )\n",
    "         ),\n",
    "        ('discretizer',\n",
    "         EqualFrequencyDiscretiser(variables=[\n",
    "             'TaxaDeUtilizacaoDeLinhasNaoGarantidas',\n",
    "             'TaxaDeEndividamento', 'RendaMensal'])\n",
    "         ),\n",
    "        ('scaler',\n",
    "         SklearnTransformerWrapper(StandardScaler()))\n",
    "    ]\n",
    ")"
   ]
  },
  {
   "cell_type": "code",
   "execution_count": 20,
   "metadata": {},
   "outputs": [],
   "source": [
    "dp = DataProcessing(X_train, pipe)"
   ]
  },
  {
   "cell_type": "code",
   "execution_count": 21,
   "metadata": {},
   "outputs": [
    {
     "name": "stdout",
     "output_type": "stream",
     "text": [
      "Preprocessador Iniciou...\n"
     ]
    }
   ],
   "source": [
    "x_train_processed = dp.run()"
   ]
  },
  {
   "cell_type": "code",
   "execution_count": 22,
   "metadata": {},
   "outputs": [
    {
     "data": {
      "text/html": [
       "<div>\n",
       "<style scoped>\n",
       "    .dataframe tbody tr th:only-of-type {\n",
       "        vertical-align: middle;\n",
       "    }\n",
       "\n",
       "    .dataframe tbody tr th {\n",
       "        vertical-align: top;\n",
       "    }\n",
       "\n",
       "    .dataframe thead th {\n",
       "        text-align: right;\n",
       "    }\n",
       "</style>\n",
       "<table border=\"1\" class=\"dataframe\">\n",
       "  <thead>\n",
       "    <tr style=\"text-align: right;\">\n",
       "      <th></th>\n",
       "      <th>TaxaDeUtilizacaoDeLinhasNaoGarantidas</th>\n",
       "      <th>Idade</th>\n",
       "      <th>NumeroDeVezes30-59DiasAtrasoNaoPior</th>\n",
       "      <th>TaxaDeEndividamento</th>\n",
       "      <th>RendaMensal</th>\n",
       "      <th>NumeroDeLinhasDeCreditoEEmprestimosAbertos</th>\n",
       "      <th>NumeroDeVezes90DiasAtraso</th>\n",
       "      <th>NumeroDeEmprestimosOuLinhasImobiliarias</th>\n",
       "      <th>NumeroDeVezes60-89DiasAtrasoNaoPior</th>\n",
       "      <th>NumeroDeDependentes</th>\n",
       "    </tr>\n",
       "  </thead>\n",
       "  <tbody>\n",
       "    <tr>\n",
       "      <th>11794</th>\n",
       "      <td>1.000000</td>\n",
       "      <td>51</td>\n",
       "      <td>0</td>\n",
       "      <td>716.000000</td>\n",
       "      <td>NaN</td>\n",
       "      <td>4</td>\n",
       "      <td>0</td>\n",
       "      <td>0</td>\n",
       "      <td>0</td>\n",
       "      <td>0.0</td>\n",
       "    </tr>\n",
       "    <tr>\n",
       "      <th>20170</th>\n",
       "      <td>0.024781</td>\n",
       "      <td>64</td>\n",
       "      <td>0</td>\n",
       "      <td>7781.000000</td>\n",
       "      <td>NaN</td>\n",
       "      <td>14</td>\n",
       "      <td>0</td>\n",
       "      <td>4</td>\n",
       "      <td>0</td>\n",
       "      <td>1.0</td>\n",
       "    </tr>\n",
       "    <tr>\n",
       "      <th>48593</th>\n",
       "      <td>0.343776</td>\n",
       "      <td>23</td>\n",
       "      <td>0</td>\n",
       "      <td>0.239044</td>\n",
       "      <td>250.0</td>\n",
       "      <td>5</td>\n",
       "      <td>0</td>\n",
       "      <td>0</td>\n",
       "      <td>0</td>\n",
       "      <td>0.0</td>\n",
       "    </tr>\n",
       "    <tr>\n",
       "      <th>10245</th>\n",
       "      <td>1.000000</td>\n",
       "      <td>28</td>\n",
       "      <td>98</td>\n",
       "      <td>0.000000</td>\n",
       "      <td>1700.0</td>\n",
       "      <td>0</td>\n",
       "      <td>98</td>\n",
       "      <td>0</td>\n",
       "      <td>98</td>\n",
       "      <td>0.0</td>\n",
       "    </tr>\n",
       "    <tr>\n",
       "      <th>27729</th>\n",
       "      <td>0.604061</td>\n",
       "      <td>39</td>\n",
       "      <td>0</td>\n",
       "      <td>0.147104</td>\n",
       "      <td>3228.0</td>\n",
       "      <td>6</td>\n",
       "      <td>1</td>\n",
       "      <td>0</td>\n",
       "      <td>0</td>\n",
       "      <td>3.0</td>\n",
       "    </tr>\n",
       "  </tbody>\n",
       "</table>\n",
       "</div>"
      ],
      "text/plain": [
       "       TaxaDeUtilizacaoDeLinhasNaoGarantidas  Idade  \\\n",
       "11794                               1.000000     51   \n",
       "20170                               0.024781     64   \n",
       "48593                               0.343776     23   \n",
       "10245                               1.000000     28   \n",
       "27729                               0.604061     39   \n",
       "\n",
       "       NumeroDeVezes30-59DiasAtrasoNaoPior  TaxaDeEndividamento  RendaMensal  \\\n",
       "11794                                    0           716.000000          NaN   \n",
       "20170                                    0          7781.000000          NaN   \n",
       "48593                                    0             0.239044        250.0   \n",
       "10245                                   98             0.000000       1700.0   \n",
       "27729                                    0             0.147104       3228.0   \n",
       "\n",
       "       NumeroDeLinhasDeCreditoEEmprestimosAbertos  NumeroDeVezes90DiasAtraso  \\\n",
       "11794                                           4                          0   \n",
       "20170                                          14                          0   \n",
       "48593                                           5                          0   \n",
       "10245                                           0                         98   \n",
       "27729                                           6                          1   \n",
       "\n",
       "       NumeroDeEmprestimosOuLinhasImobiliarias  \\\n",
       "11794                                        0   \n",
       "20170                                        4   \n",
       "48593                                        0   \n",
       "10245                                        0   \n",
       "27729                                        0   \n",
       "\n",
       "       NumeroDeVezes60-89DiasAtrasoNaoPior  NumeroDeDependentes  \n",
       "11794                                    0                  0.0  \n",
       "20170                                    0                  1.0  \n",
       "48593                                    0                  0.0  \n",
       "10245                                   98                  0.0  \n",
       "27729                                    0                  3.0  "
      ]
     },
     "execution_count": 22,
     "metadata": {},
     "output_type": "execute_result"
    }
   ],
   "source": [
    "X_train.head()"
   ]
  },
  {
   "cell_type": "code",
   "execution_count": 23,
   "metadata": {},
   "outputs": [
    {
     "data": {
      "text/html": [
       "<div>\n",
       "<style scoped>\n",
       "    .dataframe tbody tr th:only-of-type {\n",
       "        vertical-align: middle;\n",
       "    }\n",
       "\n",
       "    .dataframe tbody tr th {\n",
       "        vertical-align: top;\n",
       "    }\n",
       "\n",
       "    .dataframe thead th {\n",
       "        text-align: right;\n",
       "    }\n",
       "</style>\n",
       "<table border=\"1\" class=\"dataframe\">\n",
       "  <thead>\n",
       "    <tr style=\"text-align: right;\">\n",
       "      <th></th>\n",
       "      <th>TaxaDeUtilizacaoDeLinhasNaoGarantidas</th>\n",
       "      <th>Idade</th>\n",
       "      <th>NumeroDeVezes30-59DiasAtrasoNaoPior</th>\n",
       "      <th>TaxaDeEndividamento</th>\n",
       "      <th>RendaMensal</th>\n",
       "      <th>NumeroDeLinhasDeCreditoEEmprestimosAbertos</th>\n",
       "      <th>NumeroDeVezes90DiasAtraso</th>\n",
       "      <th>NumeroDeEmprestimosOuLinhasImobiliarias</th>\n",
       "      <th>NumeroDeVezes60-89DiasAtrasoNaoPior</th>\n",
       "      <th>NumeroDeDependentes</th>\n",
       "    </tr>\n",
       "  </thead>\n",
       "  <tbody>\n",
       "    <tr>\n",
       "      <th>11794</th>\n",
       "      <td>1.566699</td>\n",
       "      <td>-0.085477</td>\n",
       "      <td>-0.100617</td>\n",
       "      <td>1.219439</td>\n",
       "      <td>-0.137498</td>\n",
       "      <td>-0.866464</td>\n",
       "      <td>-0.063765</td>\n",
       "      <td>-0.907348</td>\n",
       "      <td>-0.058123</td>\n",
       "      <td>-0.666475</td>\n",
       "    </tr>\n",
       "    <tr>\n",
       "      <th>20170</th>\n",
       "      <td>-0.870388</td>\n",
       "      <td>0.794217</td>\n",
       "      <td>-0.100617</td>\n",
       "      <td>1.567737</td>\n",
       "      <td>-0.137498</td>\n",
       "      <td>1.081490</td>\n",
       "      <td>-0.063765</td>\n",
       "      <td>2.660299</td>\n",
       "      <td>-0.058123</td>\n",
       "      <td>0.236945</td>\n",
       "    </tr>\n",
       "    <tr>\n",
       "      <th>48593</th>\n",
       "      <td>0.522233</td>\n",
       "      <td>-1.980202</td>\n",
       "      <td>-0.100617</td>\n",
       "      <td>-0.522055</td>\n",
       "      <td>-1.529647</td>\n",
       "      <td>-0.671668</td>\n",
       "      <td>-0.063765</td>\n",
       "      <td>-0.907348</td>\n",
       "      <td>-0.058123</td>\n",
       "      <td>-0.666475</td>\n",
       "    </tr>\n",
       "    <tr>\n",
       "      <th>10245</th>\n",
       "      <td>1.566699</td>\n",
       "      <td>-1.641858</td>\n",
       "      <td>23.262003</td>\n",
       "      <td>-1.566951</td>\n",
       "      <td>-1.529647</td>\n",
       "      <td>-1.645646</td>\n",
       "      <td>23.431910</td>\n",
       "      <td>-0.907348</td>\n",
       "      <td>23.512937</td>\n",
       "      <td>-0.666475</td>\n",
       "    </tr>\n",
       "    <tr>\n",
       "      <th>27729</th>\n",
       "      <td>0.870388</td>\n",
       "      <td>-0.897502</td>\n",
       "      <td>-0.100617</td>\n",
       "      <td>-0.870354</td>\n",
       "      <td>-1.181610</td>\n",
       "      <td>-0.476873</td>\n",
       "      <td>0.175986</td>\n",
       "      <td>-0.907348</td>\n",
       "      <td>-0.058123</td>\n",
       "      <td>2.043785</td>\n",
       "    </tr>\n",
       "  </tbody>\n",
       "</table>\n",
       "</div>"
      ],
      "text/plain": [
       "       TaxaDeUtilizacaoDeLinhasNaoGarantidas     Idade  \\\n",
       "11794                               1.566699 -0.085477   \n",
       "20170                              -0.870388  0.794217   \n",
       "48593                               0.522233 -1.980202   \n",
       "10245                               1.566699 -1.641858   \n",
       "27729                               0.870388 -0.897502   \n",
       "\n",
       "       NumeroDeVezes30-59DiasAtrasoNaoPior  TaxaDeEndividamento  RendaMensal  \\\n",
       "11794                            -0.100617             1.219439    -0.137498   \n",
       "20170                            -0.100617             1.567737    -0.137498   \n",
       "48593                            -0.100617            -0.522055    -1.529647   \n",
       "10245                            23.262003            -1.566951    -1.529647   \n",
       "27729                            -0.100617            -0.870354    -1.181610   \n",
       "\n",
       "       NumeroDeLinhasDeCreditoEEmprestimosAbertos  NumeroDeVezes90DiasAtraso  \\\n",
       "11794                                   -0.866464                  -0.063765   \n",
       "20170                                    1.081490                  -0.063765   \n",
       "48593                                   -0.671668                  -0.063765   \n",
       "10245                                   -1.645646                  23.431910   \n",
       "27729                                   -0.476873                   0.175986   \n",
       "\n",
       "       NumeroDeEmprestimosOuLinhasImobiliarias  \\\n",
       "11794                                -0.907348   \n",
       "20170                                 2.660299   \n",
       "48593                                -0.907348   \n",
       "10245                                -0.907348   \n",
       "27729                                -0.907348   \n",
       "\n",
       "       NumeroDeVezes60-89DiasAtrasoNaoPior  NumeroDeDependentes  \n",
       "11794                            -0.058123            -0.666475  \n",
       "20170                            -0.058123             0.236945  \n",
       "48593                            -0.058123            -0.666475  \n",
       "10245                            23.512937            -0.666475  \n",
       "27729                            -0.058123             2.043785  "
      ]
     },
     "execution_count": 23,
     "metadata": {},
     "output_type": "execute_result"
    }
   ],
   "source": [
    "x_train_processed.head()"
   ]
  },
  {
   "cell_type": "code",
   "execution_count": 24,
   "metadata": {},
   "outputs": [
    {
     "data": {
      "text/plain": [
       "['preprocessor.joblib']"
      ]
     },
     "execution_count": 24,
     "metadata": {},
     "output_type": "execute_result"
    }
   ],
   "source": [
    "joblib.dump(dp.pipeline(), 'preprocessor.joblib')"
   ]
  },
  {
   "cell_type": "markdown",
   "metadata": {},
   "source": [
    "## 5.0 - Train Models"
   ]
  },
  {
   "cell_type": "code",
   "execution_count": null,
   "metadata": {},
   "outputs": [],
   "source": [
    "class TrainModels:\n",
    "    def __init__(self, dados_X: pd.DataFrame,\n",
    "                 dados_y: pd.DataFrame) -> None:\n",
    "        self.dados_X = dados_X\n",
    "        self.dados_y = dados_y\n",
    "\n",
    "    def train(self, model):\n",
    "        model.fit(self.dados_X, self.dados_y)\n",
    "        joblib.dump(model, 'modelo.joblib')\n",
    "\n",
    "    def predict(self, dados_para_prever: pd.DataFrame):\n",
    "        model_fitted = self._load_model()\n",
    "        dados_pred = model_fitted.predict_proba(dados_para_prever)\n",
    "        return dados_pred\n",
    "\n",
    "    def _load_model(self):\n",
    "        model = joblib.load('modelo.joblib')\n",
    "        return model"
   ]
  },
  {
   "cell_type": "code",
   "execution_count": null,
   "metadata": {},
   "outputs": [],
   "source": [
    "tm = TrainModels(dados_X=x_train_processed, dados_y=y_train)"
   ]
  },
  {
   "cell_type": "code",
   "execution_count": null,
   "metadata": {},
   "outputs": [],
   "source": [
    "tm.train(model=LogisticRegression())"
   ]
  },
  {
   "cell_type": "code",
   "execution_count": null,
   "metadata": {},
   "outputs": [],
   "source": [
    "y_train_pred = tm.predict(x_train_processed)"
   ]
  },
  {
   "cell_type": "code",
   "execution_count": null,
   "metadata": {},
   "outputs": [
    {
     "data": {
      "text/plain": [
       "array([[0.86287652, 0.13712348],\n",
       "       [0.98208053, 0.01791947],\n",
       "       [0.90694381, 0.09305619],\n",
       "       ...,\n",
       "       [0.989915  , 0.010085  ],\n",
       "       [0.94596469, 0.05403531],\n",
       "       [0.89512581, 0.10487419]])"
      ]
     },
     "metadata": {},
     "output_type": "display_data"
    }
   ],
   "source": [
    "y_train_pred"
   ]
  },
  {
   "cell_type": "markdown",
   "metadata": {},
   "source": [
    "## 6.0 - Models Evaluation"
   ]
  },
  {
   "cell_type": "code",
   "execution_count": null,
   "metadata": {},
   "outputs": [],
   "source": [
    "preprocessor = dp.pipeline()"
   ]
  },
  {
   "cell_type": "code",
   "execution_count": null,
   "metadata": {},
   "outputs": [
    {
     "data": {
      "text/html": [
       "<style>#sk-container-id-1 {color: black;}#sk-container-id-1 pre{padding: 0;}#sk-container-id-1 div.sk-toggleable {background-color: white;}#sk-container-id-1 label.sk-toggleable__label {cursor: pointer;display: block;width: 100%;margin-bottom: 0;padding: 0.3em;box-sizing: border-box;text-align: center;}#sk-container-id-1 label.sk-toggleable__label-arrow:before {content: \"▸\";float: left;margin-right: 0.25em;color: #696969;}#sk-container-id-1 label.sk-toggleable__label-arrow:hover:before {color: black;}#sk-container-id-1 div.sk-estimator:hover label.sk-toggleable__label-arrow:before {color: black;}#sk-container-id-1 div.sk-toggleable__content {max-height: 0;max-width: 0;overflow: hidden;text-align: left;background-color: #f0f8ff;}#sk-container-id-1 div.sk-toggleable__content pre {margin: 0.2em;color: black;border-radius: 0.25em;background-color: #f0f8ff;}#sk-container-id-1 input.sk-toggleable__control:checked~div.sk-toggleable__content {max-height: 200px;max-width: 100%;overflow: auto;}#sk-container-id-1 input.sk-toggleable__control:checked~label.sk-toggleable__label-arrow:before {content: \"▾\";}#sk-container-id-1 div.sk-estimator input.sk-toggleable__control:checked~label.sk-toggleable__label {background-color: #d4ebff;}#sk-container-id-1 div.sk-label input.sk-toggleable__control:checked~label.sk-toggleable__label {background-color: #d4ebff;}#sk-container-id-1 input.sk-hidden--visually {border: 0;clip: rect(1px 1px 1px 1px);clip: rect(1px, 1px, 1px, 1px);height: 1px;margin: -1px;overflow: hidden;padding: 0;position: absolute;width: 1px;}#sk-container-id-1 div.sk-estimator {font-family: monospace;background-color: #f0f8ff;border: 1px dotted black;border-radius: 0.25em;box-sizing: border-box;margin-bottom: 0.5em;}#sk-container-id-1 div.sk-estimator:hover {background-color: #d4ebff;}#sk-container-id-1 div.sk-parallel-item::after {content: \"\";width: 100%;border-bottom: 1px solid gray;flex-grow: 1;}#sk-container-id-1 div.sk-label:hover label.sk-toggleable__label {background-color: #d4ebff;}#sk-container-id-1 div.sk-serial::before {content: \"\";position: absolute;border-left: 1px solid gray;box-sizing: border-box;top: 0;bottom: 0;left: 50%;z-index: 0;}#sk-container-id-1 div.sk-serial {display: flex;flex-direction: column;align-items: center;background-color: white;padding-right: 0.2em;padding-left: 0.2em;position: relative;}#sk-container-id-1 div.sk-item {position: relative;z-index: 1;}#sk-container-id-1 div.sk-parallel {display: flex;align-items: stretch;justify-content: center;background-color: white;position: relative;}#sk-container-id-1 div.sk-item::before, #sk-container-id-1 div.sk-parallel-item::before {content: \"\";position: absolute;border-left: 1px solid gray;box-sizing: border-box;top: 0;bottom: 0;left: 50%;z-index: -1;}#sk-container-id-1 div.sk-parallel-item {display: flex;flex-direction: column;z-index: 1;position: relative;background-color: white;}#sk-container-id-1 div.sk-parallel-item:first-child::after {align-self: flex-end;width: 50%;}#sk-container-id-1 div.sk-parallel-item:last-child::after {align-self: flex-start;width: 50%;}#sk-container-id-1 div.sk-parallel-item:only-child::after {width: 0;}#sk-container-id-1 div.sk-dashed-wrapped {border: 1px dashed gray;margin: 0 0.4em 0.5em 0.4em;box-sizing: border-box;padding-bottom: 0.4em;background-color: white;}#sk-container-id-1 div.sk-label label {font-family: monospace;font-weight: bold;display: inline-block;line-height: 1.2em;}#sk-container-id-1 div.sk-label-container {text-align: center;}#sk-container-id-1 div.sk-container {/* jupyter's `normalize.less` sets `[hidden] { display: none; }` but bootstrap.min.css set `[hidden] { display: none !important; }` so we also need the `!important` here to be able to override the default hidden behavior on the sphinx rendered scikit-learn.org. See: https://github.com/scikit-learn/scikit-learn/issues/21755 */display: inline-block !important;position: relative;}#sk-container-id-1 div.sk-text-repr-fallback {display: none;}</style><div id=\"sk-container-id-1\" class=\"sk-top-container\"><div class=\"sk-text-repr-fallback\"><pre>Pipeline(steps=[(&#x27;imputer&#x27;,\n",
       "                 MeanMedianImputer(variables=[&#x27;RendaMensal&#x27;,\n",
       "                                              &#x27;NumeroDeDependentes&#x27;])),\n",
       "                (&#x27;discretizer&#x27;,\n",
       "                 EqualFrequencyDiscretiser(variables=[&#x27;TaxaDeUtilizacaoDeLinhasNaoGarantidas&#x27;,\n",
       "                                                      &#x27;TaxaDeEndividamento&#x27;,\n",
       "                                                      &#x27;RendaMensal&#x27;])),\n",
       "                (&#x27;scaler&#x27;,\n",
       "                 SklearnTransformerWrapper(transformer=StandardScaler()))])</pre><b>In a Jupyter environment, please rerun this cell to show the HTML representation or trust the notebook. <br />On GitHub, the HTML representation is unable to render, please try loading this page with nbviewer.org.</b></div><div class=\"sk-container\" hidden><div class=\"sk-item sk-dashed-wrapped\"><div class=\"sk-label-container\"><div class=\"sk-label sk-toggleable\"><input class=\"sk-toggleable__control sk-hidden--visually\" id=\"sk-estimator-id-1\" type=\"checkbox\" ><label for=\"sk-estimator-id-1\" class=\"sk-toggleable__label sk-toggleable__label-arrow\">Pipeline</label><div class=\"sk-toggleable__content\"><pre>Pipeline(steps=[(&#x27;imputer&#x27;,\n",
       "                 MeanMedianImputer(variables=[&#x27;RendaMensal&#x27;,\n",
       "                                              &#x27;NumeroDeDependentes&#x27;])),\n",
       "                (&#x27;discretizer&#x27;,\n",
       "                 EqualFrequencyDiscretiser(variables=[&#x27;TaxaDeUtilizacaoDeLinhasNaoGarantidas&#x27;,\n",
       "                                                      &#x27;TaxaDeEndividamento&#x27;,\n",
       "                                                      &#x27;RendaMensal&#x27;])),\n",
       "                (&#x27;scaler&#x27;,\n",
       "                 SklearnTransformerWrapper(transformer=StandardScaler()))])</pre></div></div></div><div class=\"sk-serial\"><div class=\"sk-item\"><div class=\"sk-estimator sk-toggleable\"><input class=\"sk-toggleable__control sk-hidden--visually\" id=\"sk-estimator-id-2\" type=\"checkbox\" ><label for=\"sk-estimator-id-2\" class=\"sk-toggleable__label sk-toggleable__label-arrow\">MeanMedianImputer</label><div class=\"sk-toggleable__content\"><pre>MeanMedianImputer(variables=[&#x27;RendaMensal&#x27;, &#x27;NumeroDeDependentes&#x27;])</pre></div></div></div><div class=\"sk-item\"><div class=\"sk-estimator sk-toggleable\"><input class=\"sk-toggleable__control sk-hidden--visually\" id=\"sk-estimator-id-3\" type=\"checkbox\" ><label for=\"sk-estimator-id-3\" class=\"sk-toggleable__label sk-toggleable__label-arrow\">EqualFrequencyDiscretiser</label><div class=\"sk-toggleable__content\"><pre>EqualFrequencyDiscretiser(variables=[&#x27;TaxaDeUtilizacaoDeLinhasNaoGarantidas&#x27;,\n",
       "                                     &#x27;TaxaDeEndividamento&#x27;, &#x27;RendaMensal&#x27;])</pre></div></div></div><div class=\"sk-item sk-dashed-wrapped\"><div class=\"sk-label-container\"><div class=\"sk-label sk-toggleable\"><input class=\"sk-toggleable__control sk-hidden--visually\" id=\"sk-estimator-id-4\" type=\"checkbox\" ><label for=\"sk-estimator-id-4\" class=\"sk-toggleable__label sk-toggleable__label-arrow\">scaler: SklearnTransformerWrapper</label><div class=\"sk-toggleable__content\"><pre>SklearnTransformerWrapper(transformer=StandardScaler())</pre></div></div></div><div class=\"sk-parallel\"><div class=\"sk-parallel-item\"><div class=\"sk-item\"><div class=\"sk-label-container\"><div class=\"sk-label sk-toggleable\"><input class=\"sk-toggleable__control sk-hidden--visually\" id=\"sk-estimator-id-5\" type=\"checkbox\" ><label for=\"sk-estimator-id-5\" class=\"sk-toggleable__label sk-toggleable__label-arrow\">transformer: StandardScaler</label><div class=\"sk-toggleable__content\"><pre>StandardScaler()</pre></div></div></div><div class=\"sk-serial\"><div class=\"sk-item\"><div class=\"sk-estimator sk-toggleable\"><input class=\"sk-toggleable__control sk-hidden--visually\" id=\"sk-estimator-id-6\" type=\"checkbox\" ><label for=\"sk-estimator-id-6\" class=\"sk-toggleable__label sk-toggleable__label-arrow\">StandardScaler</label><div class=\"sk-toggleable__content\"><pre>StandardScaler()</pre></div></div></div></div></div></div></div></div></div></div></div></div>"
      ],
      "text/plain": [
       "Pipeline(steps=[('imputer',\n",
       "                 MeanMedianImputer(variables=['RendaMensal',\n",
       "                                              'NumeroDeDependentes'])),\n",
       "                ('discretizer',\n",
       "                 EqualFrequencyDiscretiser(variables=['TaxaDeUtilizacaoDeLinhasNaoGarantidas',\n",
       "                                                      'TaxaDeEndividamento',\n",
       "                                                      'RendaMensal'])),\n",
       "                ('scaler',\n",
       "                 SklearnTransformerWrapper(transformer=StandardScaler()))])"
      ]
     },
     "metadata": {},
     "output_type": "display_data"
    }
   ],
   "source": [
    "preprocessor"
   ]
  },
  {
   "cell_type": "code",
   "execution_count": null,
   "metadata": {},
   "outputs": [],
   "source": [
    "X_valid_processed = preprocessor.transform(X_valid)"
   ]
  },
  {
   "cell_type": "code",
   "execution_count": null,
   "metadata": {},
   "outputs": [],
   "source": [
    "y_valid_pred = tm.predict(X_valid_processed)"
   ]
  },
  {
   "cell_type": "code",
   "execution_count": null,
   "metadata": {},
   "outputs": [],
   "source": [
    "class ModelEvaluation:\n",
    "\n",
    "    def __init__(self) -> None:\n",
    "        pass\n",
    "\n",
    "    def eval_metrics(self, dados_reais, dados_preditos):\n",
    "        roc_auc = roc_auc_score(dados_reais, dados_preditos)\n",
    "        return roc_auc"
   ]
  },
  {
   "cell_type": "code",
   "execution_count": null,
   "metadata": {},
   "outputs": [],
   "source": [
    "me = ModelEvaluation()"
   ]
  },
  {
   "cell_type": "code",
   "execution_count": null,
   "metadata": {},
   "outputs": [
    {
     "data": {
      "text/plain": [
       "0.7973704635482746"
      ]
     },
     "metadata": {},
     "output_type": "display_data"
    }
   ],
   "source": [
    "me.eval_metrics(y_train, y_train_pred[:, 1])"
   ]
  },
  {
   "cell_type": "code",
   "execution_count": null,
   "metadata": {},
   "outputs": [
    {
     "data": {
      "text/plain": [
       "0.78555542254399"
      ]
     },
     "metadata": {},
     "output_type": "display_data"
    }
   ],
   "source": [
    "me.eval_metrics(y_valid, y_valid_pred[:, 1])"
   ]
  },
  {
   "cell_type": "code",
   "execution_count": null,
   "metadata": {},
   "outputs": [
    {
     "ename": "NameError",
     "evalue": "name 'y_valid_pred' is not defined",
     "output_type": "error",
     "traceback": [
      "\u001b[0;31m---------------------------------------------------------------------------\u001b[0m\n",
      "\u001b[0;31mNameError\u001b[0m                                 Traceback (most recent call last)\n",
      "Cell \u001b[0;32mIn[46], line 1\u001b[0m\n",
      "\u001b[0;32m----> 1\u001b[0m \u001b[43my_valid_pred\u001b[49m\n",
      "\n",
      "\u001b[0;31mNameError\u001b[0m: name 'y_valid_pred' is not defined"
     ]
    }
   ],
   "source": [
    "y_valid_pred"
   ]
  },
  {
   "cell_type": "code",
   "execution_count": null,
   "metadata": {},
   "outputs": [],
   "source": []
  }
 ],
 "metadata": {
  "kernelspec": {
   "display_name": "ds-study",
   "language": "python",
   "name": "python3"
  },
  "language_info": {
   "codemirror_mode": {
    "name": "ipython",
    "version": 3
   },
   "file_extension": ".py",
   "mimetype": "text/x-python",
   "name": "python",
   "nbconvert_exporter": "python",
   "pygments_lexer": "ipython3",
   "version": "3.10.13"
  }
 },
 "nbformat": 4,
 "nbformat_minor": 2
}
