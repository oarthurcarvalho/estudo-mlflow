{
 "cells": [
  {
   "cell_type": "markdown",
   "metadata": {},
   "source": [
    "## 0.0 - Imports"
   ]
  },
  {
   "cell_type": "code",
   "execution_count": 1,
   "metadata": {},
   "outputs": [],
   "source": [
    "import joblib\n",
    "import pandas as pd\n",
    "import pandera\n",
    "from sklearn.model_selection import train_test_split\n",
    "from pandera import Check, Column, DataFrameSchema\n",
    "from sklearn.pipeline import Pipeline\n",
    "from feature_engine.discretisation import EqualFrequencyDiscretiser, EqualWidthDiscretiser\n",
    "from feature_engine.imputation import MeanMedianImputer\n",
    "from feature_engine.wrappers import SklearnTransformerWrapper\n",
    "from sklearn.preprocessing import RobustScaler, StandardScaler\n",
    "from sklearn.metrics import roc_auc_score\n",
    "from sklearn.linear_model import LogisticRegression"
   ]
  },
  {
   "cell_type": "markdown",
   "metadata": {},
   "source": [
    "## 0.1 - Utils"
   ]
  },
  {
   "cell_type": "code",
   "execution_count": 7,
   "metadata": {},
   "outputs": [],
   "source": [
    "columns_to_use = ['target', 'TaxaDeUtilizacaoDeLinhasNaoGarantidas',\n",
    "                  'Idade', 'NumeroDeVezes30-59DiasAtrasoNaoPior',\n",
    "                  'TaxaDeEndividamento', 'RendaMensal',\n",
    "                  'NumeroDeLinhasDeCreditoEEmprestimosAbertos',\n",
    "                  'NumeroDeVezes90DiasAtraso',\n",
    "                  'NumeroDeEmprestimosOuLinhasImobiliarias',\n",
    "                  'NumeroDeVezes60-89DiasAtrasoNaoPior', 'NumeroDeDependentes']"
   ]
  },
  {
   "cell_type": "markdown",
   "metadata": {},
   "source": [
    "# 1.0 - Data Load\n",
    "\n",
    "<p>É importante a criação desta etapa de Data Load porque é bem possível que apenas esta parte mude em seu projeto.</p>\n",
    "<p>Ex.:</p>\n",
    "    <p style=\"padding-left: 50px\">O projeto criado estava lendo os dados de um arquivo .csv e agora o arquivo muda para um banco de dados PostgreSQL</>"
   ]
  },
  {
   "cell_type": "code",
   "execution_count": 4,
   "metadata": {},
   "outputs": [],
   "source": [
    "class DataLoad:\n",
    "\n",
    "    def __init__(self):\n",
    "        pass\n",
    "\n",
    "    def load_data(self) -> pd.DataFrame:\n",
    "        \"\"\"\n",
    "        Função vai carregar os dados\n",
    "\n",
    "        return:\n",
    "            pandas DataFrame\n",
    "        \"\"\"\n",
    "\n",
    "        loaded_data = pd.read_csv('../data/train.csv')\n",
    "        return loaded_data"
   ]
  },
  {
   "cell_type": "code",
   "execution_count": 5,
   "metadata": {},
   "outputs": [],
   "source": [
    "dl = DataLoad()"
   ]
  },
  {
   "cell_type": "code",
   "execution_count": 9,
   "metadata": {},
   "outputs": [
    {
     "data": {
      "text/html": [
       "<div>\n",
       "<style scoped>\n",
       "    .dataframe tbody tr th:only-of-type {\n",
       "        vertical-align: middle;\n",
       "    }\n",
       "\n",
       "    .dataframe tbody tr th {\n",
       "        vertical-align: top;\n",
       "    }\n",
       "\n",
       "    .dataframe thead th {\n",
       "        text-align: right;\n",
       "    }\n",
       "</style>\n",
       "<table border=\"1\" class=\"dataframe\">\n",
       "  <thead>\n",
       "    <tr style=\"text-align: right;\">\n",
       "      <th></th>\n",
       "      <th>target</th>\n",
       "      <th>TaxaDeUtilizacaoDeLinhasNaoGarantidas</th>\n",
       "      <th>Idade</th>\n",
       "      <th>NumeroDeVezes30-59DiasAtrasoNaoPior</th>\n",
       "      <th>TaxaDeEndividamento</th>\n",
       "      <th>RendaMensal</th>\n",
       "      <th>NumeroDeLinhasDeCreditoEEmprestimosAbertos</th>\n",
       "      <th>NumeroDeVezes90DiasAtraso</th>\n",
       "      <th>NumeroDeEmprestimosOuLinhasImobiliarias</th>\n",
       "      <th>NumeroDeVezes60-89DiasAtrasoNaoPior</th>\n",
       "      <th>NumeroDeDependentes</th>\n",
       "    </tr>\n",
       "  </thead>\n",
       "  <tbody>\n",
       "    <tr>\n",
       "      <th>0</th>\n",
       "      <td>1</td>\n",
       "      <td>0.766127</td>\n",
       "      <td>45</td>\n",
       "      <td>2</td>\n",
       "      <td>0.802982</td>\n",
       "      <td>9120.0</td>\n",
       "      <td>13</td>\n",
       "      <td>0</td>\n",
       "      <td>6</td>\n",
       "      <td>0</td>\n",
       "      <td>2.0</td>\n",
       "    </tr>\n",
       "    <tr>\n",
       "      <th>1</th>\n",
       "      <td>0</td>\n",
       "      <td>0.957151</td>\n",
       "      <td>40</td>\n",
       "      <td>0</td>\n",
       "      <td>0.121876</td>\n",
       "      <td>2600.0</td>\n",
       "      <td>4</td>\n",
       "      <td>0</td>\n",
       "      <td>0</td>\n",
       "      <td>0</td>\n",
       "      <td>1.0</td>\n",
       "    </tr>\n",
       "    <tr>\n",
       "      <th>2</th>\n",
       "      <td>0</td>\n",
       "      <td>0.658180</td>\n",
       "      <td>38</td>\n",
       "      <td>1</td>\n",
       "      <td>0.085113</td>\n",
       "      <td>3042.0</td>\n",
       "      <td>2</td>\n",
       "      <td>1</td>\n",
       "      <td>0</td>\n",
       "      <td>0</td>\n",
       "      <td>0.0</td>\n",
       "    </tr>\n",
       "    <tr>\n",
       "      <th>3</th>\n",
       "      <td>0</td>\n",
       "      <td>0.233810</td>\n",
       "      <td>30</td>\n",
       "      <td>0</td>\n",
       "      <td>0.036050</td>\n",
       "      <td>3300.0</td>\n",
       "      <td>5</td>\n",
       "      <td>0</td>\n",
       "      <td>0</td>\n",
       "      <td>0</td>\n",
       "      <td>0.0</td>\n",
       "    </tr>\n",
       "    <tr>\n",
       "      <th>4</th>\n",
       "      <td>0</td>\n",
       "      <td>0.907239</td>\n",
       "      <td>49</td>\n",
       "      <td>1</td>\n",
       "      <td>0.024926</td>\n",
       "      <td>63588.0</td>\n",
       "      <td>7</td>\n",
       "      <td>0</td>\n",
       "      <td>1</td>\n",
       "      <td>0</td>\n",
       "      <td>0.0</td>\n",
       "    </tr>\n",
       "  </tbody>\n",
       "</table>\n",
       "</div>"
      ],
      "text/plain": [
       "   target  TaxaDeUtilizacaoDeLinhasNaoGarantidas  Idade  \\\n",
       "0       1                               0.766127     45   \n",
       "1       0                               0.957151     40   \n",
       "2       0                               0.658180     38   \n",
       "3       0                               0.233810     30   \n",
       "4       0                               0.907239     49   \n",
       "\n",
       "   NumeroDeVezes30-59DiasAtrasoNaoPior  TaxaDeEndividamento  RendaMensal  \\\n",
       "0                                    2             0.802982       9120.0   \n",
       "1                                    0             0.121876       2600.0   \n",
       "2                                    1             0.085113       3042.0   \n",
       "3                                    0             0.036050       3300.0   \n",
       "4                                    1             0.024926      63588.0   \n",
       "\n",
       "   NumeroDeLinhasDeCreditoEEmprestimosAbertos  NumeroDeVezes90DiasAtraso  \\\n",
       "0                                          13                          0   \n",
       "1                                           4                          0   \n",
       "2                                           2                          1   \n",
       "3                                           5                          0   \n",
       "4                                           7                          0   \n",
       "\n",
       "   NumeroDeEmprestimosOuLinhasImobiliarias  \\\n",
       "0                                        6   \n",
       "1                                        0   \n",
       "2                                        0   \n",
       "3                                        0   \n",
       "4                                        1   \n",
       "\n",
       "   NumeroDeVezes60-89DiasAtrasoNaoPior  NumeroDeDependentes  \n",
       "0                                    0                  2.0  \n",
       "1                                    0                  1.0  \n",
       "2                                    0                  0.0  \n",
       "3                                    0                  0.0  \n",
       "4                                    0                  0.0  "
      ]
     },
     "execution_count": 9,
     "metadata": {},
     "output_type": "execute_result"
    }
   ],
   "source": [
    "df = dl.load_data()[columns_to_use]\n",
    "df.head()"
   ]
  },
  {
   "cell_type": "markdown",
   "metadata": {},
   "source": [
    "## 2.0 - Data Validation"
   ]
  },
  {
   "cell_type": "code",
   "execution_count": 12,
   "metadata": {},
   "outputs": [],
   "source": [
    "class DataValidation:\n",
    "    \"\"\"\"\"\"\n",
    "\n",
    "    def __init__(self, columns_to_use) -> None:\n",
    "        self.columns_to_use = columns_to_use\n",
    "\n",
    "    def check_shape_data(self, dataframe: pd.DataFrame) -> bool:\n",
    "        try:\n",
    "            print('Validação Iniciou')\n",
    "            dataframe.columns = self.columns_to_use\n",
    "            return True\n",
    "        except Exception as e:\n",
    "            print(f'Validação errou: {e}')\n",
    "            return False\n",
    "\n",
    "    def check_columns(self, dataframe: pd.DataFrame) -> bool:\n",
    "        schema = DataFrameSchema(\n",
    "            {\n",
    "                'target': Column(int, Check.isin([0, 1]), Check(lambda x: x > 0), coerce=True),\n",
    "                'TaxaDeUtilizacaoDeLinhasNaoGarantidas': Column(float, nullable=True),\n",
    "                'Idade': Column(int, nullable=True),\n",
    "                'NumeroDeVezes30-59DiasAtrasoNaoPior': Column(int, nullable=True),\n",
    "                'TaxaDeEndividamento': Column(float, nullable=True),\n",
    "                'RendaMensal': Column(float, nullable=True),\n",
    "                'NumeroDeLinhasDeCreditoEEmprestimosAbertos': Column(int, nullable=True),\n",
    "                'NumeroDeVezes90DiasAtraso': Column(int, nullable=True),\n",
    "                'NumeroDeEmprestimosOuLinhasImobiliarias': Column(int, nullable=True),\n",
    "                'NumeroDeVezes60-89DiasAtrasoNaoPior': Column(int, nullable=True),\n",
    "                'NumeroDeDependentes': Column(float, nullable=True)\n",
    "            }\n",
    "        )\n",
    "\n",
    "        try:\n",
    "            schema.validate(dataframe)\n",
    "            print(\"Validation columns passed...\")\n",
    "            return True\n",
    "        except pandera.errors.SchemaErros as exc:\n",
    "            print(\"Validation columns failed...\")\n",
    "            pandera.display(exc.failure_cases)\n",
    "        return False\n",
    "\n",
    "    def run(self, dataframe: pd.DataFrame) -> bool:\n",
    "\n",
    "        if self.check_shape_data(dataframe) and self.check_columns(dataframe):\n",
    "            print('Validação com sucesso')\n",
    "            return True\n",
    "        else:\n",
    "            print('Validação Falhou!')\n",
    "            return False"
   ]
  },
  {
   "cell_type": "code",
   "execution_count": 13,
   "metadata": {},
   "outputs": [],
   "source": [
    "dv = DataValidation(columns_to_use)"
   ]
  },
  {
   "cell_type": "code",
   "execution_count": 14,
   "metadata": {},
   "outputs": [
    {
     "name": "stdout",
     "output_type": "stream",
     "text": [
      "Validação Iniciou\n",
      "Validation columns passed...\n",
      "Validação com sucesso\n"
     ]
    },
    {
     "data": {
      "text/plain": [
       "True"
      ]
     },
     "execution_count": 14,
     "metadata": {},
     "output_type": "execute_result"
    }
   ],
   "source": [
    "dv.run(df)"
   ]
  },
  {
   "cell_type": "code",
   "execution_count": null,
   "metadata": {},
   "outputs": [],
   "source": []
  },
  {
   "cell_type": "code",
   "execution_count": null,
   "metadata": {},
   "outputs": [],
   "source": []
  },
  {
   "cell_type": "code",
   "execution_count": null,
   "metadata": {},
   "outputs": [],
   "source": []
  },
  {
   "cell_type": "code",
   "execution_count": null,
   "metadata": {},
   "outputs": [],
   "source": []
  },
  {
   "cell_type": "code",
   "execution_count": null,
   "metadata": {},
   "outputs": [],
   "source": []
  },
  {
   "cell_type": "code",
   "execution_count": null,
   "metadata": {},
   "outputs": [],
   "source": []
  }
 ],
 "metadata": {
  "kernelspec": {
   "display_name": "ds-study",
   "language": "python",
   "name": "python3"
  },
  "language_info": {
   "codemirror_mode": {
    "name": "ipython",
    "version": 3
   },
   "file_extension": ".py",
   "mimetype": "text/x-python",
   "name": "python",
   "nbconvert_exporter": "python",
   "pygments_lexer": "ipython3",
   "version": "3.10.13"
  }
 },
 "nbformat": 4,
 "nbformat_minor": 2
}
